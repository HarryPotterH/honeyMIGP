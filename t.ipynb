{
 "cells": [
  {
   "cell_type": "code",
   "execution_count": 4,
   "id": "aeba5d45",
   "metadata": {},
   "outputs": [],
   "source": [
    "import pymysql\n",
    "def create_bucket(bucket_id):\n",
    "    conn = pymysql.connect(\n",
    "        host=\"localhost\",\n",
    "        port=3306,\n",
    "        user=\"root\", \n",
    "        password=\"root\",\n",
    "        database=\"c3server\",\n",
    "        charset=\"utf8mb4\"\n",
    "    )\n",
    "    cursor = conn.cursor() \n",
    "#     bucket = \"bucket_\"\n",
    "#     bucket += bucket_id\n",
    "    sql = \"\"\"\n",
    "    create table if not exists bucket_{}(\n",
    "        enc_credentials varchar(78) CHARACTER SET utf8mb4 COLLATE utf8mb4_0900_ai_ci NULL DEFAULT NULL,\n",
    "        server_index int AUTO_INCREMENT,         \n",
    "        PRIMARY KEY (`server_index`) USING BTREE\n",
    "    )ENGINE = InnoDB CHARACTER SET = utf8mb4 COLLATE = utf8mb4_0900_ai_ci ROW_FORMAT = Dynamic;\n",
    "    \"\"\".format(bucket_id) \n",
    "    try:  \n",
    "        cursor.execute(sql)\n",
    "        conn.commit()\n",
    "    except Exception as e:\n",
    "        # 有异常，回滚事务\n",
    "        print('traceback.format_exc():\\n%s' % traceback.format_exc()) \n",
    "        conn.rollback()\n",
    "    cursor.close() \n",
    "    conn.close()\n",
    "create_bucket(1235)"
   ]
  }
 ],
 "metadata": {
  "kernelspec": {
   "display_name": "Python 3 (ipykernel)",
   "language": "python",
   "name": "python3"
  },
  "language_info": {
   "codemirror_mode": {
    "name": "ipython",
    "version": 3
   },
   "file_extension": ".py",
   "mimetype": "text/x-python",
   "name": "python",
   "nbconvert_exporter": "python",
   "pygments_lexer": "ipython3",
   "version": "3.7.2"
  },
  "toc": {
   "base_numbering": 1,
   "nav_menu": {},
   "number_sections": true,
   "sideBar": true,
   "skip_h1_title": false,
   "title_cell": "Table of Contents",
   "title_sidebar": "Contents",
   "toc_cell": false,
   "toc_position": {},
   "toc_section_display": true,
   "toc_window_display": false
  }
 },
 "nbformat": 4,
 "nbformat_minor": 5
}
